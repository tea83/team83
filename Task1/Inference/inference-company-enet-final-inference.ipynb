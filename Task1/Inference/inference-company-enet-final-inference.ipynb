{
 "cells": [
  {
   "cell_type": "code",
   "execution_count": 1,
   "id": "741a0286",
   "metadata": {
    "execution": {
     "iopub.execute_input": "2023-12-15T15:31:38.536325Z",
     "iopub.status.busy": "2023-12-15T15:31:38.535981Z",
     "iopub.status.idle": "2023-12-15T15:31:45.302787Z",
     "shell.execute_reply": "2023-12-15T15:31:45.301607Z"
    },
    "papermill": {
     "duration": 6.774597,
     "end_time": "2023-12-15T15:31:45.305227",
     "exception": false,
     "start_time": "2023-12-15T15:31:38.530630",
     "status": "completed"
    },
    "tags": []
   },
   "outputs": [
    {
     "name": "stderr",
     "output_type": "stream",
     "text": [
      "/opt/conda/lib/python3.10/site-packages/scipy/__init__.py:146: UserWarning: A NumPy version >=1.16.5 and <1.23.0 is required for this version of SciPy (detected version 1.24.3\n",
      "  warnings.warn(f\"A NumPy version >={np_minversion} and <{np_maxversion}\"\n"
     ]
    },
    {
     "name": "stdout",
     "output_type": "stream",
     "text": [
      "RAPIDS version 23.08.00\n"
     ]
    }
   ],
   "source": [
    "# LOAD LIBRARIES\n",
    "import pandas as pd, numpy as np # CPU libraries\n",
    "import cupy, cudf # GPU libraries\n",
    "import matplotlib.pyplot as plt, gc, os\n",
    "\n",
    "print('RAPIDS version',cudf.__version__)"
   ]
  },
  {
   "cell_type": "code",
   "execution_count": 2,
   "id": "99a72ab4",
   "metadata": {
    "execution": {
     "iopub.execute_input": "2023-12-15T15:31:45.316036Z",
     "iopub.status.busy": "2023-12-15T15:31:45.315063Z",
     "iopub.status.idle": "2023-12-15T15:31:46.333282Z",
     "shell.execute_reply": "2023-12-15T15:31:46.332482Z"
    },
    "papermill": {
     "duration": 1.025861,
     "end_time": "2023-12-15T15:31:46.335616",
     "exception": false,
     "start_time": "2023-12-15T15:31:45.309755",
     "status": "completed"
    },
    "tags": []
   },
   "outputs": [],
   "source": [
    "from sklearn.model_selection import KFold\n",
    "import xgboost as xgb\n",
    "import pandas\n",
    "import cudf\n",
    "from sklearn.metrics import mean_squared_error\n",
    "from math import sqrt"
   ]
  },
  {
   "cell_type": "code",
   "execution_count": 3,
   "id": "ce279d3e",
   "metadata": {
    "execution": {
     "iopub.execute_input": "2023-12-15T15:31:46.345591Z",
     "iopub.status.busy": "2023-12-15T15:31:46.344725Z",
     "iopub.status.idle": "2023-12-15T15:31:46.354517Z",
     "shell.execute_reply": "2023-12-15T15:31:46.353625Z"
    },
    "papermill": {
     "duration": 0.016703,
     "end_time": "2023-12-15T15:31:46.356386",
     "exception": false,
     "start_time": "2023-12-15T15:31:46.339683",
     "status": "completed"
    },
    "tags": []
   },
   "outputs": [],
   "source": [
    "def read_file(text_embedding_path, image_embedding_path, path = '', usecols = None):\n",
    "    # LOAD DATAFRAME\n",
    "    if usecols is not None: df = cudf.read_csv(path, columns=usecols)\n",
    "    else: df = cudf.read_csv(path)\n",
    "\n",
    "    # Dictionary mapping days of the week to numbers\n",
    "    day_to_number = {\n",
    "        'Monday': 1,\n",
    "        'Tuesday': 2,\n",
    "        'Wednesday': 3,\n",
    "        'Thursday': 4,\n",
    "        'Friday': 5,\n",
    "        'Saturday': 6,\n",
    "        'Sunday': 7\n",
    "    }\n",
    "\n",
    "    # Convert the 'day_of_week' column to numbers\n",
    "    df['day of week'] = df['day of week'].map(day_to_number)\n",
    "    text_embeddings = np.load(text_embedding_path)\n",
    "    image_embeddings = np.load(image_embedding_path) \n",
    "    img_emb, text_emb = pd.DataFrame(image_embeddings), pd.DataFrame(text_embeddings)\n",
    "    net_emb = pd.concat([img_emb, text_emb], axis = 1)\n",
    "    net_emb.columns = range(len(net_emb.columns))\n",
    "    net_emb = cudf.from_pandas(net_emb)\n",
    "    concat_pd = cudf.concat([df, net_emb], axis = 1)\n",
    "    features_to_drop = ['date', 'media', 'content_processed', 'Link','image_path', 'username', 'inferred company','Media Type']\n",
    "    df = concat_pd.drop(columns = features_to_drop, inplace=False)\n",
    "    print('shape of data:', df.shape)\n",
    "    return df"
   ]
  },
  {
   "cell_type": "code",
   "execution_count": 4,
   "id": "d347f6c8",
   "metadata": {
    "execution": {
     "iopub.execute_input": "2023-12-15T15:31:46.365445Z",
     "iopub.status.busy": "2023-12-15T15:31:46.364740Z",
     "iopub.status.idle": "2023-12-15T15:31:52.337774Z",
     "shell.execute_reply": "2023-12-15T15:31:52.336906Z"
    },
    "papermill": {
     "duration": 5.980102,
     "end_time": "2023-12-15T15:31:52.340325",
     "exception": false,
     "start_time": "2023-12-15T15:31:46.360223",
     "status": "completed"
    },
    "tags": []
   },
   "outputs": [
    {
     "name": "stdout",
     "output_type": "stream",
     "text": [
      "Reading test data...\n",
      "shape of data: (10000, 1773)\n"
     ]
    }
   ],
   "source": [
    "import warnings\n",
    "print(f'Reading test data...')\n",
    "TEST_PATH = '/kaggle/input/behav-company-img/dataframe/Behav_Company_img.csv'\n",
    "IMG_EMB = '/kaggle/input/enet-embeds-test-company/ENet_Embeds_test_company.npy'\n",
    "TEXT_EMB = '/kaggle/input/mpnet-company-dataset/MPNET_Embeds_Company.npy'\n",
    "with warnings.catch_warnings():\n",
    "    # Filter out the specific warning you want to ignore\n",
    "    warnings.filterwarnings(\"ignore\", category=Warning)\n",
    "    test = read_file(TEXT_EMB, IMG_EMB, path = TEST_PATH)\n",
    "customers = test[['id']].drop_duplicates().sort_index().values.flatten()"
   ]
  },
  {
   "cell_type": "code",
   "execution_count": 5,
   "id": "73da53a1",
   "metadata": {
    "execution": {
     "iopub.execute_input": "2023-12-15T15:31:52.350361Z",
     "iopub.status.busy": "2023-12-15T15:31:52.349656Z",
     "iopub.status.idle": "2023-12-15T15:31:52.355606Z",
     "shell.execute_reply": "2023-12-15T15:31:52.354428Z"
    },
    "papermill": {
     "duration": 0.013067,
     "end_time": "2023-12-15T15:31:52.357484",
     "exception": false,
     "start_time": "2023-12-15T15:31:52.344417",
     "status": "completed"
    },
    "tags": []
   },
   "outputs": [
    {
     "name": "stdout",
     "output_type": "stream",
     "text": [
      "There are 1773 features!\n"
     ]
    }
   ],
   "source": [
    "# FEATURES\n",
    "FEATURES = test.columns[:]\n",
    "print(f'There are {len(FEATURES)} features!')"
   ]
  },
  {
   "cell_type": "code",
   "execution_count": 6,
   "id": "1bde4d89",
   "metadata": {
    "execution": {
     "iopub.execute_input": "2023-12-15T15:31:52.367711Z",
     "iopub.status.busy": "2023-12-15T15:31:52.367014Z",
     "iopub.status.idle": "2023-12-15T15:31:52.371299Z",
     "shell.execute_reply": "2023-12-15T15:31:52.370256Z"
    },
    "papermill": {
     "duration": 0.011707,
     "end_time": "2023-12-15T15:31:52.373278",
     "exception": false,
     "start_time": "2023-12-15T15:31:52.361571",
     "status": "completed"
    },
    "tags": []
   },
   "outputs": [],
   "source": [
    "VER = 1\n",
    "FOLDS = 5"
   ]
  },
  {
   "cell_type": "code",
   "execution_count": 7,
   "id": "dc3a14ce",
   "metadata": {
    "execution": {
     "iopub.execute_input": "2023-12-15T15:31:52.383087Z",
     "iopub.status.busy": "2023-12-15T15:31:52.382519Z",
     "iopub.status.idle": "2023-12-15T15:31:57.452656Z",
     "shell.execute_reply": "2023-12-15T15:31:57.451681Z"
    },
    "papermill": {
     "duration": 5.077752,
     "end_time": "2023-12-15T15:31:57.455158",
     "exception": false,
     "start_time": "2023-12-15T15:31:52.377406",
     "status": "completed"
    },
    "tags": []
   },
   "outputs": [],
   "source": [
    "test_preds = []\n",
    "# TEST DATA FOR XGB\n",
    "X_test = test[FEATURES]\n",
    "dtest = xgb.DMatrix(data=X_test)\n",
    "del X_test\n",
    "gc.collect()\n",
    "# INFER XGB MODELS ON TEST DATA\n",
    "model = xgb.Booster()\n",
    "model.load_model(f'/kaggle/input/xgboost-saved-models/XGB_v{VER}_fold0.xgb')\n",
    "preds = np.exp(model.predict(dtest))\n",
    "for f in range(1,FOLDS):\n",
    "    model.load_model(f'/kaggle/input/xgboost-saved-models/XGB_v{VER}_fold{f}.xgb')\n",
    "    preds += np.exp(model.predict(dtest))\n",
    "preds /= FOLDS\n",
    "test_preds.append(preds)\n",
    "# CLEAN MEMORY\n",
    "del dtest, model\n",
    "_ = gc.collect()"
   ]
  },
  {
   "cell_type": "code",
   "execution_count": 8,
   "id": "ff7a46a5",
   "metadata": {
    "execution": {
     "iopub.execute_input": "2023-12-15T15:31:57.464939Z",
     "iopub.status.busy": "2023-12-15T15:31:57.464611Z",
     "iopub.status.idle": "2023-12-15T15:31:57.470825Z",
     "shell.execute_reply": "2023-12-15T15:31:57.469987Z"
    },
    "papermill": {
     "duration": 0.013245,
     "end_time": "2023-12-15T15:31:57.472878",
     "exception": false,
     "start_time": "2023-12-15T15:31:57.459633",
     "status": "completed"
    },
    "tags": []
   },
   "outputs": [
    {
     "data": {
      "text/plain": [
       "1"
      ]
     },
     "execution_count": 8,
     "metadata": {},
     "output_type": "execute_result"
    }
   ],
   "source": [
    "len(test_preds)"
   ]
  },
  {
   "cell_type": "code",
   "execution_count": 9,
   "id": "1585f3b4",
   "metadata": {
    "execution": {
     "iopub.execute_input": "2023-12-15T15:31:57.482378Z",
     "iopub.status.busy": "2023-12-15T15:31:57.482060Z",
     "iopub.status.idle": "2023-12-15T15:31:57.544754Z",
     "shell.execute_reply": "2023-12-15T15:31:57.543764Z"
    },
    "papermill": {
     "duration": 0.069627,
     "end_time": "2023-12-15T15:31:57.546672",
     "exception": false,
     "start_time": "2023-12-15T15:31:57.477045",
     "status": "completed"
    },
    "tags": []
   },
   "outputs": [
    {
     "name": "stdout",
     "output_type": "stream",
     "text": [
      "Submission file shape is (10000, 1)\n"
     ]
    },
    {
     "data": {
      "text/html": [
       "<div>\n",
       "<style scoped>\n",
       "    .dataframe tbody tr th:only-of-type {\n",
       "        vertical-align: middle;\n",
       "    }\n",
       "\n",
       "    .dataframe tbody tr th {\n",
       "        vertical-align: top;\n",
       "    }\n",
       "\n",
       "    .dataframe thead th {\n",
       "        text-align: right;\n",
       "    }\n",
       "</style>\n",
       "<table border=\"1\" class=\"dataframe\">\n",
       "  <thead>\n",
       "    <tr style=\"text-align: right;\">\n",
       "      <th></th>\n",
       "      <th>prediction</th>\n",
       "    </tr>\n",
       "  </thead>\n",
       "  <tbody>\n",
       "    <tr>\n",
       "      <th>1</th>\n",
       "      <td>1.983737</td>\n",
       "    </tr>\n",
       "    <tr>\n",
       "      <th>2</th>\n",
       "      <td>6.404223</td>\n",
       "    </tr>\n",
       "    <tr>\n",
       "      <th>3</th>\n",
       "      <td>16.602894</td>\n",
       "    </tr>\n",
       "    <tr>\n",
       "      <th>4</th>\n",
       "      <td>57.068153</td>\n",
       "    </tr>\n",
       "    <tr>\n",
       "      <th>5</th>\n",
       "      <td>139.834198</td>\n",
       "    </tr>\n",
       "    <tr>\n",
       "      <th>...</th>\n",
       "      <td>...</td>\n",
       "    </tr>\n",
       "    <tr>\n",
       "      <th>9996</th>\n",
       "      <td>115365.000000</td>\n",
       "    </tr>\n",
       "    <tr>\n",
       "      <th>9997</th>\n",
       "      <td>121460.148438</td>\n",
       "    </tr>\n",
       "    <tr>\n",
       "      <th>9998</th>\n",
       "      <td>151062.234375</td>\n",
       "    </tr>\n",
       "    <tr>\n",
       "      <th>9999</th>\n",
       "      <td>148683.406250</td>\n",
       "    </tr>\n",
       "    <tr>\n",
       "      <th>10000</th>\n",
       "      <td>152779.218750</td>\n",
       "    </tr>\n",
       "  </tbody>\n",
       "</table>\n",
       "<p>10000 rows × 1 columns</p>\n",
       "</div>"
      ],
      "text/plain": [
       "          prediction\n",
       "1           1.983737\n",
       "2           6.404223\n",
       "3          16.602894\n",
       "4          57.068153\n",
       "5         139.834198\n",
       "...              ...\n",
       "9996   115365.000000\n",
       "9997   121460.148438\n",
       "9998   151062.234375\n",
       "9999   148683.406250\n",
       "10000  152779.218750\n",
       "\n",
       "[10000 rows x 1 columns]"
      ]
     },
     "execution_count": 9,
     "metadata": {},
     "output_type": "execute_result"
    }
   ],
   "source": [
    "# WRITE SUBMISSION FILE\n",
    "test_preds = np.concatenate(test_preds)\n",
    "test = cudf.DataFrame(index=customers,data={'prediction':test_preds})\n",
    "\n",
    "# DISPLAY PREDICTIONS\n",
    "test.to_csv(f'task01_submission_xgb_v{VER}_Company_ENet.csv',index=False)\n",
    "print('Submission file shape is', test.shape )\n",
    "test.head(10000)"
   ]
  },
  {
   "cell_type": "code",
   "execution_count": null,
   "id": "1e949b33",
   "metadata": {
    "papermill": {
     "duration": 0.004164,
     "end_time": "2023-12-15T15:31:57.555101",
     "exception": false,
     "start_time": "2023-12-15T15:31:57.550937",
     "status": "completed"
    },
    "tags": []
   },
   "outputs": [],
   "source": []
  }
 ],
 "metadata": {
  "kaggle": {
   "accelerator": "nvidiaTeslaT4",
   "dataSources": [
    {
     "datasetId": 4170932,
     "sourceId": 7208923,
     "sourceType": "datasetVersion"
    },
    {
     "datasetId": 4171111,
     "sourceId": 7209159,
     "sourceType": "datasetVersion"
    },
    {
     "datasetId": 4170781,
     "sourceId": 7208725,
     "sourceType": "datasetVersion"
    },
    {
     "datasetId": 4170817,
     "sourceId": 7208767,
     "sourceType": "datasetVersion"
    },
    {
     "datasetId": 4165821,
     "sourceId": 7201666,
     "sourceType": "datasetVersion"
    }
   ],
   "isGpuEnabled": true,
   "isInternetEnabled": true,
   "language": "python",
   "sourceType": "notebook"
  },
  "kernelspec": {
   "display_name": "Python 3",
   "language": "python",
   "name": "python3"
  },
  "language_info": {
   "codemirror_mode": {
    "name": "ipython",
    "version": 3
   },
   "file_extension": ".py",
   "mimetype": "text/x-python",
   "name": "python",
   "nbconvert_exporter": "python",
   "pygments_lexer": "ipython3",
   "version": "3.10.12"
  },
  "papermill": {
   "default_parameters": {},
   "duration": 24.298934,
   "end_time": "2023-12-15T15:31:59.180620",
   "environment_variables": {},
   "exception": null,
   "input_path": "__notebook__.ipynb",
   "output_path": "__notebook__.ipynb",
   "parameters": {},
   "start_time": "2023-12-15T15:31:34.881686",
   "version": "2.4.0"
  }
 },
 "nbformat": 4,
 "nbformat_minor": 5
}
