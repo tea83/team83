{
 "cells": [
  {
   "cell_type": "code",
   "execution_count": 1,
   "id": "be50c397",
   "metadata": {
    "execution": {
     "iopub.execute_input": "2023-12-15T15:25:39.838674Z",
     "iopub.status.busy": "2023-12-15T15:25:39.838330Z",
     "iopub.status.idle": "2023-12-15T15:25:46.310254Z",
     "shell.execute_reply": "2023-12-15T15:25:46.309015Z"
    },
    "papermill": {
     "duration": 6.479454,
     "end_time": "2023-12-15T15:25:46.312484",
     "exception": false,
     "start_time": "2023-12-15T15:25:39.833030",
     "status": "completed"
    },
    "tags": []
   },
   "outputs": [
    {
     "name": "stderr",
     "output_type": "stream",
     "text": [
      "/opt/conda/lib/python3.10/site-packages/scipy/__init__.py:146: UserWarning: A NumPy version >=1.16.5 and <1.23.0 is required for this version of SciPy (detected version 1.24.3\n",
      "  warnings.warn(f\"A NumPy version >={np_minversion} and <{np_maxversion}\"\n"
     ]
    },
    {
     "name": "stdout",
     "output_type": "stream",
     "text": [
      "RAPIDS version 23.08.00\n"
     ]
    }
   ],
   "source": [
    "# LOAD LIBRARIES\n",
    "import pandas as pd, numpy as np # CPU libraries\n",
    "import cupy, cudf # GPU libraries\n",
    "import matplotlib.pyplot as plt, gc, os\n",
    "\n",
    "print('RAPIDS version',cudf.__version__)"
   ]
  },
  {
   "cell_type": "code",
   "execution_count": 2,
   "id": "2a1927d5",
   "metadata": {
    "execution": {
     "iopub.execute_input": "2023-12-15T15:25:46.322027Z",
     "iopub.status.busy": "2023-12-15T15:25:46.321594Z",
     "iopub.status.idle": "2023-12-15T15:25:47.311118Z",
     "shell.execute_reply": "2023-12-15T15:25:47.310288Z"
    },
    "papermill": {
     "duration": 0.996668,
     "end_time": "2023-12-15T15:25:47.313504",
     "exception": false,
     "start_time": "2023-12-15T15:25:46.316836",
     "status": "completed"
    },
    "tags": []
   },
   "outputs": [],
   "source": [
    "from sklearn.model_selection import KFold\n",
    "import xgboost as xgb\n",
    "import pandas\n",
    "import cudf\n",
    "from sklearn.metrics import mean_squared_error\n",
    "from math import sqrt"
   ]
  },
  {
   "cell_type": "code",
   "execution_count": 3,
   "id": "d728bffc",
   "metadata": {
    "execution": {
     "iopub.execute_input": "2023-12-15T15:25:47.323248Z",
     "iopub.status.busy": "2023-12-15T15:25:47.322524Z",
     "iopub.status.idle": "2023-12-15T15:25:47.332748Z",
     "shell.execute_reply": "2023-12-15T15:25:47.331904Z"
    },
    "papermill": {
     "duration": 0.017089,
     "end_time": "2023-12-15T15:25:47.334753",
     "exception": false,
     "start_time": "2023-12-15T15:25:47.317664",
     "status": "completed"
    },
    "tags": []
   },
   "outputs": [],
   "source": [
    "def read_file(text_embedding_path, image_embedding_path, path = '', usecols = None):\n",
    "    # LOAD DATAFRAME\n",
    "    if usecols is not None: df = cudf.read_csv(path, columns=usecols)\n",
    "    else: df = cudf.read_csv(path)\n",
    "\n",
    "    # Dictionary mapping days of the week to numbers\n",
    "    day_to_number = {\n",
    "        'Monday': 1,\n",
    "        'Tuesday': 2,\n",
    "        'Wednesday': 3,\n",
    "        'Thursday': 4,\n",
    "        'Friday': 5,\n",
    "        'Saturday': 6,\n",
    "        'Sunday': 7\n",
    "    }\n",
    "\n",
    "    # Convert the 'day_of_week' column to numbers\n",
    "    df['day of week'] = df['day of week'].map(day_to_number)\n",
    "    text_embeddings = np.load(text_embedding_path)\n",
    "    image_embeddings = np.load(image_embedding_path) \n",
    "    img_emb, text_emb = pd.DataFrame(image_embeddings), pd.DataFrame(text_embeddings)\n",
    "    net_emb = pd.concat([img_emb, text_emb], axis = 1)\n",
    "    net_emb.columns = range(len(net_emb.columns))\n",
    "    net_emb = cudf.from_pandas(net_emb)\n",
    "    concat_pd = cudf.concat([df, net_emb], axis = 1)\n",
    "    features_to_drop = ['date', 'media', 'content_processed', 'Link','image_path', 'username', 'inferred company','Media Type']\n",
    "    df = concat_pd.drop(columns = features_to_drop, inplace=False)\n",
    "    print('shape of data:', df.shape)\n",
    "    return df"
   ]
  },
  {
   "cell_type": "code",
   "execution_count": 4,
   "id": "dfbb1088",
   "metadata": {
    "execution": {
     "iopub.execute_input": "2023-12-15T15:25:47.343730Z",
     "iopub.status.busy": "2023-12-15T15:25:47.343204Z",
     "iopub.status.idle": "2023-12-15T15:25:53.621190Z",
     "shell.execute_reply": "2023-12-15T15:25:53.620241Z"
    },
    "papermill": {
     "duration": 6.284968,
     "end_time": "2023-12-15T15:25:53.623499",
     "exception": false,
     "start_time": "2023-12-15T15:25:47.338531",
     "status": "completed"
    },
    "tags": []
   },
   "outputs": [
    {
     "name": "stdout",
     "output_type": "stream",
     "text": [
      "Reading test data...\n",
      "shape of data: (10000, 1797)\n"
     ]
    }
   ],
   "source": [
    "import warnings\n",
    "print(f'Reading test data...')\n",
    "TEST_PATH = '/kaggle/input/behav-time-img/dataframe/Behav_Time_img.csv'\n",
    "IMG_EMB = '/kaggle/input/clip-embeds-test-time/CLIP_Embeds_Test_Time.npy'\n",
    "TEXT_EMB = '/kaggle/input/mpnet-time-test-dataset/MPNET_Embeds.npy'\n",
    "with warnings.catch_warnings():\n",
    "    # Filter out the specific warning you want to ignore\n",
    "    warnings.filterwarnings(\"ignore\", category=Warning)\n",
    "    test = read_file(TEXT_EMB, IMG_EMB, path = TEST_PATH)\n",
    "customers = test[['id']].drop_duplicates().sort_index().values.flatten()"
   ]
  },
  {
   "cell_type": "code",
   "execution_count": 5,
   "id": "b37838ac",
   "metadata": {
    "execution": {
     "iopub.execute_input": "2023-12-15T15:25:53.633028Z",
     "iopub.status.busy": "2023-12-15T15:25:53.632526Z",
     "iopub.status.idle": "2023-12-15T15:25:53.637907Z",
     "shell.execute_reply": "2023-12-15T15:25:53.637065Z"
    },
    "papermill": {
     "duration": 0.012092,
     "end_time": "2023-12-15T15:25:53.639862",
     "exception": false,
     "start_time": "2023-12-15T15:25:53.627770",
     "status": "completed"
    },
    "tags": []
   },
   "outputs": [
    {
     "name": "stdout",
     "output_type": "stream",
     "text": [
      "There are 1797 features!\n"
     ]
    }
   ],
   "source": [
    "# FEATURES\n",
    "FEATURES = test.columns[:]\n",
    "print(f'There are {len(FEATURES)} features!')"
   ]
  },
  {
   "cell_type": "code",
   "execution_count": 6,
   "id": "d40b2abe",
   "metadata": {
    "execution": {
     "iopub.execute_input": "2023-12-15T15:25:53.648776Z",
     "iopub.status.busy": "2023-12-15T15:25:53.648507Z",
     "iopub.status.idle": "2023-12-15T15:25:53.652086Z",
     "shell.execute_reply": "2023-12-15T15:25:53.651386Z"
    },
    "papermill": {
     "duration": 0.010174,
     "end_time": "2023-12-15T15:25:53.653881",
     "exception": false,
     "start_time": "2023-12-15T15:25:53.643707",
     "status": "completed"
    },
    "tags": []
   },
   "outputs": [],
   "source": [
    "VER = 2\n",
    "FOLDS = 5"
   ]
  },
  {
   "cell_type": "code",
   "execution_count": 7,
   "id": "f66d7b42",
   "metadata": {
    "execution": {
     "iopub.execute_input": "2023-12-15T15:25:53.662860Z",
     "iopub.status.busy": "2023-12-15T15:25:53.662323Z",
     "iopub.status.idle": "2023-12-15T15:25:57.022543Z",
     "shell.execute_reply": "2023-12-15T15:25:57.021730Z"
    },
    "papermill": {
     "duration": 3.367102,
     "end_time": "2023-12-15T15:25:57.024821",
     "exception": false,
     "start_time": "2023-12-15T15:25:53.657719",
     "status": "completed"
    },
    "tags": []
   },
   "outputs": [],
   "source": [
    "test_preds = []\n",
    "# TEST DATA FOR XGB\n",
    "X_test = test[FEATURES]\n",
    "dtest = xgb.DMatrix(data=X_test)\n",
    "del X_test\n",
    "gc.collect()\n",
    "# INFER XGB MODELS ON TEST DATA\n",
    "model = xgb.Booster()\n",
    "model.load_model(f'/kaggle/input/xgboost-saved-models/XGB_v{VER}_fold0.xgb')\n",
    "preds = np.exp(model.predict(dtest))\n",
    "for f in range(1,FOLDS):\n",
    "    model.load_model(f'/kaggle/input/xgboost-saved-models/XGB_v{VER}_fold{f}.xgb')\n",
    "    preds += np.exp(model.predict(dtest))\n",
    "preds /= FOLDS\n",
    "test_preds.append(preds)\n",
    "# CLEAN MEMORY\n",
    "del dtest, model\n",
    "_ = gc.collect()"
   ]
  },
  {
   "cell_type": "code",
   "execution_count": 8,
   "id": "3e1deccf",
   "metadata": {
    "execution": {
     "iopub.execute_input": "2023-12-15T15:25:57.034078Z",
     "iopub.status.busy": "2023-12-15T15:25:57.033775Z",
     "iopub.status.idle": "2023-12-15T15:25:57.041589Z",
     "shell.execute_reply": "2023-12-15T15:25:57.040602Z"
    },
    "papermill": {
     "duration": 0.014708,
     "end_time": "2023-12-15T15:25:57.043674",
     "exception": false,
     "start_time": "2023-12-15T15:25:57.028966",
     "status": "completed"
    },
    "tags": []
   },
   "outputs": [
    {
     "data": {
      "text/plain": [
       "[array([2.2234380e+00, 7.5764399e+00, 3.6092999e+00, ..., 4.0428445e+04,\n",
       "        5.9234293e+04, 6.5310492e+04], dtype=float32)]"
      ]
     },
     "execution_count": 8,
     "metadata": {},
     "output_type": "execute_result"
    }
   ],
   "source": [
    "test_preds"
   ]
  },
  {
   "cell_type": "code",
   "execution_count": 9,
   "id": "5886ba2f",
   "metadata": {
    "execution": {
     "iopub.execute_input": "2023-12-15T15:25:57.053464Z",
     "iopub.status.busy": "2023-12-15T15:25:57.053155Z",
     "iopub.status.idle": "2023-12-15T15:25:57.120278Z",
     "shell.execute_reply": "2023-12-15T15:25:57.119357Z"
    },
    "papermill": {
     "duration": 0.074584,
     "end_time": "2023-12-15T15:25:57.122673",
     "exception": false,
     "start_time": "2023-12-15T15:25:57.048089",
     "status": "completed"
    },
    "tags": []
   },
   "outputs": [
    {
     "name": "stdout",
     "output_type": "stream",
     "text": [
      "Submission file shape is (10000, 1)\n"
     ]
    },
    {
     "data": {
      "text/html": [
       "<div>\n",
       "<style scoped>\n",
       "    .dataframe tbody tr th:only-of-type {\n",
       "        vertical-align: middle;\n",
       "    }\n",
       "\n",
       "    .dataframe tbody tr th {\n",
       "        vertical-align: top;\n",
       "    }\n",
       "\n",
       "    .dataframe thead th {\n",
       "        text-align: right;\n",
       "    }\n",
       "</style>\n",
       "<table border=\"1\" class=\"dataframe\">\n",
       "  <thead>\n",
       "    <tr style=\"text-align: right;\">\n",
       "      <th></th>\n",
       "      <th>prediction</th>\n",
       "    </tr>\n",
       "  </thead>\n",
       "  <tbody>\n",
       "    <tr>\n",
       "      <th>1</th>\n",
       "      <td>2.223438</td>\n",
       "    </tr>\n",
       "    <tr>\n",
       "      <th>2</th>\n",
       "      <td>7.576440</td>\n",
       "    </tr>\n",
       "    <tr>\n",
       "      <th>3</th>\n",
       "      <td>3.609300</td>\n",
       "    </tr>\n",
       "    <tr>\n",
       "      <th>4</th>\n",
       "      <td>51.930359</td>\n",
       "    </tr>\n",
       "    <tr>\n",
       "      <th>5</th>\n",
       "      <td>148.182159</td>\n",
       "    </tr>\n",
       "    <tr>\n",
       "      <th>...</th>\n",
       "      <td>...</td>\n",
       "    </tr>\n",
       "    <tr>\n",
       "      <th>9996</th>\n",
       "      <td>59856.136719</td>\n",
       "    </tr>\n",
       "    <tr>\n",
       "      <th>9997</th>\n",
       "      <td>50243.031250</td>\n",
       "    </tr>\n",
       "    <tr>\n",
       "      <th>9998</th>\n",
       "      <td>40428.445312</td>\n",
       "    </tr>\n",
       "    <tr>\n",
       "      <th>9999</th>\n",
       "      <td>59234.292969</td>\n",
       "    </tr>\n",
       "    <tr>\n",
       "      <th>10000</th>\n",
       "      <td>65310.492188</td>\n",
       "    </tr>\n",
       "  </tbody>\n",
       "</table>\n",
       "<p>10000 rows × 1 columns</p>\n",
       "</div>"
      ],
      "text/plain": [
       "         prediction\n",
       "1          2.223438\n",
       "2          7.576440\n",
       "3          3.609300\n",
       "4         51.930359\n",
       "5        148.182159\n",
       "...             ...\n",
       "9996   59856.136719\n",
       "9997   50243.031250\n",
       "9998   40428.445312\n",
       "9999   59234.292969\n",
       "10000  65310.492188\n",
       "\n",
       "[10000 rows x 1 columns]"
      ]
     },
     "execution_count": 9,
     "metadata": {},
     "output_type": "execute_result"
    }
   ],
   "source": [
    "# WRITE SUBMISSION FILE\n",
    "test_preds = np.concatenate(test_preds)\n",
    "test = cudf.DataFrame(index=customers,data={'prediction':test_preds})\n",
    "\n",
    "# DISPLAY PREDICTIONS\n",
    "test.to_csv(f'task01_submission_xgb_v{VER}_time_CLIP.csv',index=False)\n",
    "print('Submission file shape is', test.shape )\n",
    "test.head(10000)"
   ]
  },
  {
   "cell_type": "code",
   "execution_count": null,
   "id": "1e286cc9",
   "metadata": {
    "papermill": {
     "duration": 0.004536,
     "end_time": "2023-12-15T15:25:57.131953",
     "exception": false,
     "start_time": "2023-12-15T15:25:57.127417",
     "status": "completed"
    },
    "tags": []
   },
   "outputs": [],
   "source": []
  }
 ],
 "metadata": {
  "kaggle": {
   "accelerator": "nvidiaTeslaT4",
   "dataSources": [
    {
     "datasetId": 4165325,
     "sourceId": 7201028,
     "sourceType": "datasetVersion"
    },
    {
     "datasetId": 4170703,
     "sourceId": 7208619,
     "sourceType": "datasetVersion"
    },
    {
     "datasetId": 4170766,
     "sourceId": 7208705,
     "sourceType": "datasetVersion"
    },
    {
     "datasetId": 4170832,
     "sourceId": 7208788,
     "sourceType": "datasetVersion"
    },
    {
     "datasetId": 4171111,
     "sourceId": 7209159,
     "sourceType": "datasetVersion"
    }
   ],
   "dockerImageVersionId": 30627,
   "isGpuEnabled": true,
   "isInternetEnabled": true,
   "language": "python",
   "sourceType": "notebook"
  },
  "kernelspec": {
   "display_name": "Python 3",
   "language": "python",
   "name": "python3"
  },
  "language_info": {
   "codemirror_mode": {
    "name": "ipython",
    "version": 3
   },
   "file_extension": ".py",
   "mimetype": "text/x-python",
   "name": "python",
   "nbconvert_exporter": "python",
   "pygments_lexer": "ipython3",
   "version": "3.10.12"
  },
  "papermill": {
   "default_parameters": {},
   "duration": 22.423416,
   "end_time": "2023-12-15T15:25:58.658687",
   "environment_variables": {},
   "exception": null,
   "input_path": "__notebook__.ipynb",
   "output_path": "__notebook__.ipynb",
   "parameters": {},
   "start_time": "2023-12-15T15:25:36.235271",
   "version": "2.4.0"
  }
 },
 "nbformat": 4,
 "nbformat_minor": 5
}
