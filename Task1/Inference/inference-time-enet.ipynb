{
 "cells": [
  {
   "cell_type": "code",
   "execution_count": 1,
   "id": "a6043f78",
   "metadata": {
    "execution": {
     "iopub.execute_input": "2023-12-15T15:27:31.559090Z",
     "iopub.status.busy": "2023-12-15T15:27:31.558796Z",
     "iopub.status.idle": "2023-12-15T15:27:37.902909Z",
     "shell.execute_reply": "2023-12-15T15:27:37.901841Z"
    },
    "papermill": {
     "duration": 6.351104,
     "end_time": "2023-12-15T15:27:37.905016",
     "exception": false,
     "start_time": "2023-12-15T15:27:31.553912",
     "status": "completed"
    },
    "tags": []
   },
   "outputs": [
    {
     "name": "stderr",
     "output_type": "stream",
     "text": [
      "/opt/conda/lib/python3.10/site-packages/scipy/__init__.py:146: UserWarning: A NumPy version >=1.16.5 and <1.23.0 is required for this version of SciPy (detected version 1.24.3\n",
      "  warnings.warn(f\"A NumPy version >={np_minversion} and <{np_maxversion}\"\n"
     ]
    },
    {
     "name": "stdout",
     "output_type": "stream",
     "text": [
      "RAPIDS version 23.08.00\n"
     ]
    }
   ],
   "source": [
    "# LOAD LIBRARIES\n",
    "import pandas as pd, numpy as np # CPU libraries\n",
    "import cupy, cudf # GPU libraries\n",
    "import matplotlib.pyplot as plt, gc, os\n",
    "\n",
    "print('RAPIDS version',cudf.__version__)"
   ]
  },
  {
   "cell_type": "code",
   "execution_count": 2,
   "id": "05c7eb51",
   "metadata": {
    "execution": {
     "iopub.execute_input": "2023-12-15T15:27:37.913600Z",
     "iopub.status.busy": "2023-12-15T15:27:37.913162Z",
     "iopub.status.idle": "2023-12-15T15:27:38.901784Z",
     "shell.execute_reply": "2023-12-15T15:27:38.900935Z"
    },
    "papermill": {
     "duration": 0.995296,
     "end_time": "2023-12-15T15:27:38.904151",
     "exception": false,
     "start_time": "2023-12-15T15:27:37.908855",
     "status": "completed"
    },
    "tags": []
   },
   "outputs": [],
   "source": [
    "from sklearn.model_selection import KFold\n",
    "import xgboost as xgb\n",
    "import pandas\n",
    "import cudf\n",
    "from sklearn.metrics import mean_squared_error\n",
    "from math import sqrt"
   ]
  },
  {
   "cell_type": "code",
   "execution_count": 3,
   "id": "9dc4aa94",
   "metadata": {
    "execution": {
     "iopub.execute_input": "2023-12-15T15:27:38.912586Z",
     "iopub.status.busy": "2023-12-15T15:27:38.912268Z",
     "iopub.status.idle": "2023-12-15T15:27:38.922876Z",
     "shell.execute_reply": "2023-12-15T15:27:38.921940Z"
    },
    "papermill": {
     "duration": 0.01709,
     "end_time": "2023-12-15T15:27:38.924939",
     "exception": false,
     "start_time": "2023-12-15T15:27:38.907849",
     "status": "completed"
    },
    "tags": []
   },
   "outputs": [],
   "source": [
    "def read_file(text_embedding_path, image_embedding_path, path = '', usecols = None):\n",
    "    # LOAD DATAFRAME\n",
    "    if usecols is not None: df = cudf.read_csv(path, columns=usecols)\n",
    "    else: df = cudf.read_csv(path)\n",
    "\n",
    "    # Dictionary mapping days of the week to numbers\n",
    "    day_to_number = {\n",
    "        'Monday': 1,\n",
    "        'Tuesday': 2,\n",
    "        'Wednesday': 3,\n",
    "        'Thursday': 4,\n",
    "        'Friday': 5,\n",
    "        'Saturday': 6,\n",
    "        'Sunday': 7\n",
    "    }\n",
    "\n",
    "    # Convert the 'day_of_week' column to numbers\n",
    "    df['day of week'] = df['day of week'].map(day_to_number)\n",
    "    text_embeddings = np.load(text_embedding_path)\n",
    "    image_embeddings = np.load(image_embedding_path) \n",
    "    img_emb, text_emb = pd.DataFrame(image_embeddings), pd.DataFrame(text_embeddings)\n",
    "    net_emb = pd.concat([img_emb, text_emb], axis = 1)\n",
    "    net_emb.columns = range(len(net_emb.columns))\n",
    "    net_emb = cudf.from_pandas(net_emb)\n",
    "    concat_pd = cudf.concat([df, net_emb], axis = 1)\n",
    "    features_to_drop = ['date', 'media', 'content_processed', 'Link','image_path', 'username', 'inferred company','Media Type']\n",
    "    df = concat_pd.drop(columns = features_to_drop, inplace=False)\n",
    "    print('shape of data:', df.shape)\n",
    "    return df"
   ]
  },
  {
   "cell_type": "code",
   "execution_count": 4,
   "id": "327682e4",
   "metadata": {
    "execution": {
     "iopub.execute_input": "2023-12-15T15:27:38.932908Z",
     "iopub.status.busy": "2023-12-15T15:27:38.932522Z",
     "iopub.status.idle": "2023-12-15T15:27:44.980003Z",
     "shell.execute_reply": "2023-12-15T15:27:44.978732Z"
    },
    "papermill": {
     "duration": 6.054395,
     "end_time": "2023-12-15T15:27:44.982804",
     "exception": false,
     "start_time": "2023-12-15T15:27:38.928409",
     "status": "completed"
    },
    "tags": []
   },
   "outputs": [
    {
     "name": "stdout",
     "output_type": "stream",
     "text": [
      "Reading test data...\n",
      "shape of data: (10000, 1773)\n"
     ]
    }
   ],
   "source": [
    "import warnings\n",
    "print(f'Reading test data...')\n",
    "TEST_PATH = '/kaggle/input/behav-time-img/dataframe/Behav_Time_img.csv'\n",
    "IMG_EMB = '/kaggle/input/enet-behav-time-img-embeds-final/ENet_Behav_Time_img_Embeds_final.npy'\n",
    "TEXT_EMB = '/kaggle/input/mpnet-time-test-dataset/MPNET_Embeds.npy'\n",
    "with warnings.catch_warnings():\n",
    "    # Filter out the specific warning you want to ignore\n",
    "    warnings.filterwarnings(\"ignore\", category=Warning)\n",
    "    test = read_file(TEXT_EMB, IMG_EMB, path = TEST_PATH)\n",
    "customers = test[['id']].drop_duplicates().sort_index().values.flatten()"
   ]
  },
  {
   "cell_type": "code",
   "execution_count": 5,
   "id": "edd80b18",
   "metadata": {
    "execution": {
     "iopub.execute_input": "2023-12-15T15:27:44.992845Z",
     "iopub.status.busy": "2023-12-15T15:27:44.992447Z",
     "iopub.status.idle": "2023-12-15T15:27:44.997899Z",
     "shell.execute_reply": "2023-12-15T15:27:44.997065Z"
    },
    "papermill": {
     "duration": 0.013099,
     "end_time": "2023-12-15T15:27:44.999917",
     "exception": false,
     "start_time": "2023-12-15T15:27:44.986818",
     "status": "completed"
    },
    "tags": []
   },
   "outputs": [
    {
     "name": "stdout",
     "output_type": "stream",
     "text": [
      "There are 1773 features!\n"
     ]
    }
   ],
   "source": [
    "# FEATURES\n",
    "FEATURES = test.columns[:]\n",
    "print(f'There are {len(FEATURES)} features!')"
   ]
  },
  {
   "cell_type": "code",
   "execution_count": 6,
   "id": "48d2c5d5",
   "metadata": {
    "execution": {
     "iopub.execute_input": "2023-12-15T15:27:45.008128Z",
     "iopub.status.busy": "2023-12-15T15:27:45.007885Z",
     "iopub.status.idle": "2023-12-15T15:27:45.011736Z",
     "shell.execute_reply": "2023-12-15T15:27:45.010894Z"
    },
    "papermill": {
     "duration": 0.010044,
     "end_time": "2023-12-15T15:27:45.013554",
     "exception": false,
     "start_time": "2023-12-15T15:27:45.003510",
     "status": "completed"
    },
    "tags": []
   },
   "outputs": [],
   "source": [
    "VER = 1\n",
    "FOLDS = 5"
   ]
  },
  {
   "cell_type": "code",
   "execution_count": 7,
   "id": "f0c820bc",
   "metadata": {
    "execution": {
     "iopub.execute_input": "2023-12-15T15:27:45.022041Z",
     "iopub.status.busy": "2023-12-15T15:27:45.021778Z",
     "iopub.status.idle": "2023-12-15T15:27:49.831720Z",
     "shell.execute_reply": "2023-12-15T15:27:49.830925Z"
    },
    "papermill": {
     "duration": 4.816738,
     "end_time": "2023-12-15T15:27:49.834018",
     "exception": false,
     "start_time": "2023-12-15T15:27:45.017280",
     "status": "completed"
    },
    "tags": []
   },
   "outputs": [],
   "source": [
    "test_preds = []\n",
    "# TEST DATA FOR XGB\n",
    "X_test = test[FEATURES]\n",
    "dtest = xgb.DMatrix(data=X_test)\n",
    "del X_test\n",
    "gc.collect()\n",
    "# INFER XGB MODELS ON TEST DATA\n",
    "model = xgb.Booster()\n",
    "model.load_model(f'/kaggle/input/xgboost-saved-models/XGB_v{VER}_fold0.xgb')\n",
    "preds = np.exp(model.predict(dtest))\n",
    "for f in range(1,FOLDS):\n",
    "    model.load_model(f'/kaggle/input/xgboost-saved-models/XGB_v{VER}_fold{f}.xgb')\n",
    "    preds += np.exp(model.predict(dtest))\n",
    "preds /= FOLDS\n",
    "test_preds.append(preds)\n",
    "# CLEAN MEMORY\n",
    "del dtest, model\n",
    "_ = gc.collect()"
   ]
  },
  {
   "cell_type": "code",
   "execution_count": 8,
   "id": "3b0f98b9",
   "metadata": {
    "execution": {
     "iopub.execute_input": "2023-12-15T15:27:49.843938Z",
     "iopub.status.busy": "2023-12-15T15:27:49.843634Z",
     "iopub.status.idle": "2023-12-15T15:27:49.910283Z",
     "shell.execute_reply": "2023-12-15T15:27:49.909369Z"
    },
    "papermill": {
     "duration": 0.073563,
     "end_time": "2023-12-15T15:27:49.912217",
     "exception": false,
     "start_time": "2023-12-15T15:27:49.838654",
     "status": "completed"
    },
    "tags": []
   },
   "outputs": [
    {
     "name": "stdout",
     "output_type": "stream",
     "text": [
      "Submission file shape is (10000, 1)\n"
     ]
    },
    {
     "data": {
      "text/html": [
       "<div>\n",
       "<style scoped>\n",
       "    .dataframe tbody tr th:only-of-type {\n",
       "        vertical-align: middle;\n",
       "    }\n",
       "\n",
       "    .dataframe tbody tr th {\n",
       "        vertical-align: top;\n",
       "    }\n",
       "\n",
       "    .dataframe thead th {\n",
       "        text-align: right;\n",
       "    }\n",
       "</style>\n",
       "<table border=\"1\" class=\"dataframe\">\n",
       "  <thead>\n",
       "    <tr style=\"text-align: right;\">\n",
       "      <th></th>\n",
       "      <th>prediction</th>\n",
       "    </tr>\n",
       "  </thead>\n",
       "  <tbody>\n",
       "    <tr>\n",
       "      <th>1</th>\n",
       "      <td>1.833024</td>\n",
       "    </tr>\n",
       "    <tr>\n",
       "      <th>2</th>\n",
       "      <td>7.462855</td>\n",
       "    </tr>\n",
       "    <tr>\n",
       "      <th>3</th>\n",
       "      <td>16.423283</td>\n",
       "    </tr>\n",
       "    <tr>\n",
       "      <th>4</th>\n",
       "      <td>54.045704</td>\n",
       "    </tr>\n",
       "    <tr>\n",
       "      <th>5</th>\n",
       "      <td>145.862915</td>\n",
       "    </tr>\n",
       "    <tr>\n",
       "      <th>...</th>\n",
       "      <td>...</td>\n",
       "    </tr>\n",
       "    <tr>\n",
       "      <th>9996</th>\n",
       "      <td>139573.906250</td>\n",
       "    </tr>\n",
       "    <tr>\n",
       "      <th>9997</th>\n",
       "      <td>148063.093750</td>\n",
       "    </tr>\n",
       "    <tr>\n",
       "      <th>9998</th>\n",
       "      <td>102656.421875</td>\n",
       "    </tr>\n",
       "    <tr>\n",
       "      <th>9999</th>\n",
       "      <td>149489.421875</td>\n",
       "    </tr>\n",
       "    <tr>\n",
       "      <th>10000</th>\n",
       "      <td>138808.625000</td>\n",
       "    </tr>\n",
       "  </tbody>\n",
       "</table>\n",
       "<p>10000 rows × 1 columns</p>\n",
       "</div>"
      ],
      "text/plain": [
       "          prediction\n",
       "1           1.833024\n",
       "2           7.462855\n",
       "3          16.423283\n",
       "4          54.045704\n",
       "5         145.862915\n",
       "...              ...\n",
       "9996   139573.906250\n",
       "9997   148063.093750\n",
       "9998   102656.421875\n",
       "9999   149489.421875\n",
       "10000  138808.625000\n",
       "\n",
       "[10000 rows x 1 columns]"
      ]
     },
     "execution_count": 8,
     "metadata": {},
     "output_type": "execute_result"
    }
   ],
   "source": [
    "# WRITE SUBMISSION FILE\n",
    "test_preds = np.concatenate(test_preds)\n",
    "test = cudf.DataFrame(index=customers,data={'prediction':test_preds})\n",
    "\n",
    "# DISPLAY PREDICTIONS\n",
    "test.to_csv(f'task01_submission_xgb_v{VER}_time_ENET.csv',index=False)\n",
    "print('Submission file shape is', test.shape )\n",
    "test.head(10000)"
   ]
  },
  {
   "cell_type": "code",
   "execution_count": null,
   "id": "1d219d65",
   "metadata": {
    "papermill": {
     "duration": 0.003848,
     "end_time": "2023-12-15T15:27:49.920055",
     "exception": false,
     "start_time": "2023-12-15T15:27:49.916207",
     "status": "completed"
    },
    "tags": []
   },
   "outputs": [],
   "source": []
  }
 ],
 "metadata": {
  "kaggle": {
   "accelerator": "nvidiaTeslaT4",
   "dataSources": [
    {
     "datasetId": 4165325,
     "sourceId": 7201028,
     "sourceType": "datasetVersion"
    },
    {
     "datasetId": 4170703,
     "sourceId": 7208619,
     "sourceType": "datasetVersion"
    },
    {
     "datasetId": 4170766,
     "sourceId": 7208705,
     "sourceType": "datasetVersion"
    },
    {
     "datasetId": 4170832,
     "sourceId": 7208788,
     "sourceType": "datasetVersion"
    },
    {
     "datasetId": 4171111,
     "sourceId": 7209159,
     "sourceType": "datasetVersion"
    }
   ],
   "dockerImageVersionId": 30627,
   "isGpuEnabled": true,
   "isInternetEnabled": true,
   "language": "python",
   "sourceType": "notebook"
  },
  "kernelspec": {
   "display_name": "Python 3",
   "language": "python",
   "name": "python3"
  },
  "language_info": {
   "codemirror_mode": {
    "name": "ipython",
    "version": 3
   },
   "file_extension": ".py",
   "mimetype": "text/x-python",
   "name": "python",
   "nbconvert_exporter": "python",
   "pygments_lexer": "ipython3",
   "version": "3.10.12"
  },
  "papermill": {
   "default_parameters": {},
   "duration": 23.497804,
   "end_time": "2023-12-15T15:27:51.446691",
   "environment_variables": {},
   "exception": null,
   "input_path": "__notebook__.ipynb",
   "output_path": "__notebook__.ipynb",
   "parameters": {},
   "start_time": "2023-12-15T15:27:27.948887",
   "version": "2.4.0"
  }
 },
 "nbformat": 4,
 "nbformat_minor": 5
}
