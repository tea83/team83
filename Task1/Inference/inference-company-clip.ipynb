{
 "cells": [
  {
   "cell_type": "code",
   "execution_count": 1,
   "id": "bc8b9b46",
   "metadata": {
    "execution": {
     "iopub.execute_input": "2023-12-15T15:29:45.371724Z",
     "iopub.status.busy": "2023-12-15T15:29:45.371342Z",
     "iopub.status.idle": "2023-12-15T15:29:52.063383Z",
     "shell.execute_reply": "2023-12-15T15:29:52.062430Z"
    },
    "papermill": {
     "duration": 6.699757,
     "end_time": "2023-12-15T15:29:52.065783",
     "exception": false,
     "start_time": "2023-12-15T15:29:45.366026",
     "status": "completed"
    },
    "tags": []
   },
   "outputs": [
    {
     "name": "stderr",
     "output_type": "stream",
     "text": [
      "/opt/conda/lib/python3.10/site-packages/scipy/__init__.py:146: UserWarning: A NumPy version >=1.16.5 and <1.23.0 is required for this version of SciPy (detected version 1.24.3\n",
      "  warnings.warn(f\"A NumPy version >={np_minversion} and <{np_maxversion}\"\n"
     ]
    },
    {
     "name": "stdout",
     "output_type": "stream",
     "text": [
      "RAPIDS version 23.08.00\n"
     ]
    }
   ],
   "source": [
    "# LOAD LIBRARIES\n",
    "import pandas as pd, numpy as np # CPU libraries\n",
    "import cupy, cudf # GPU libraries\n",
    "import matplotlib.pyplot as plt, gc, os\n",
    "\n",
    "print('RAPIDS version',cudf.__version__)"
   ]
  },
  {
   "cell_type": "code",
   "execution_count": 2,
   "id": "ebe77d64",
   "metadata": {
    "execution": {
     "iopub.execute_input": "2023-12-15T15:29:52.075456Z",
     "iopub.status.busy": "2023-12-15T15:29:52.074986Z",
     "iopub.status.idle": "2023-12-15T15:29:53.053514Z",
     "shell.execute_reply": "2023-12-15T15:29:53.052708Z"
    },
    "papermill": {
     "duration": 0.985976,
     "end_time": "2023-12-15T15:29:53.055933",
     "exception": false,
     "start_time": "2023-12-15T15:29:52.069957",
     "status": "completed"
    },
    "tags": []
   },
   "outputs": [],
   "source": [
    "from sklearn.model_selection import KFold\n",
    "import xgboost as xgb\n",
    "import pandas\n",
    "import cudf\n",
    "from sklearn.metrics import mean_squared_error\n",
    "from math import sqrt"
   ]
  },
  {
   "cell_type": "code",
   "execution_count": 3,
   "id": "ab7b8077",
   "metadata": {
    "execution": {
     "iopub.execute_input": "2023-12-15T15:29:53.066065Z",
     "iopub.status.busy": "2023-12-15T15:29:53.065246Z",
     "iopub.status.idle": "2023-12-15T15:29:53.075462Z",
     "shell.execute_reply": "2023-12-15T15:29:53.074664Z"
    },
    "papermill": {
     "duration": 0.017294,
     "end_time": "2023-12-15T15:29:53.077618",
     "exception": false,
     "start_time": "2023-12-15T15:29:53.060324",
     "status": "completed"
    },
    "tags": []
   },
   "outputs": [],
   "source": [
    "def read_file(text_embedding_path, image_embedding_path, path = '', usecols = None):\n",
    "    # LOAD DATAFRAME\n",
    "    if usecols is not None: df = cudf.read_csv(path, columns=usecols)\n",
    "    else: df = cudf.read_csv(path)\n",
    "\n",
    "    # Dictionary mapping days of the week to numbers\n",
    "    day_to_number = {\n",
    "        'Monday': 1,\n",
    "        'Tuesday': 2,\n",
    "        'Wednesday': 3,\n",
    "        'Thursday': 4,\n",
    "        'Friday': 5,\n",
    "        'Saturday': 6,\n",
    "        'Sunday': 7\n",
    "    }\n",
    "\n",
    "    # Convert the 'day_of_week' column to numbers\n",
    "    df['day of week'] = df['day of week'].map(day_to_number)\n",
    "    text_embeddings = np.load(text_embedding_path)\n",
    "    image_embeddings = np.load(image_embedding_path) \n",
    "    img_emb, text_emb = pd.DataFrame(image_embeddings), pd.DataFrame(text_embeddings)\n",
    "    net_emb = pd.concat([img_emb, text_emb], axis = 1)\n",
    "    net_emb.columns = range(len(net_emb.columns))\n",
    "    net_emb = cudf.from_pandas(net_emb)\n",
    "    concat_pd = cudf.concat([df, net_emb], axis = 1)\n",
    "    features_to_drop = ['date', 'media', 'content_processed', 'Link','image_path', 'username', 'inferred company','Media Type']\n",
    "    df = concat_pd.drop(columns = features_to_drop, inplace=False)\n",
    "    print('shape of data:', df.shape)\n",
    "    return df"
   ]
  },
  {
   "cell_type": "code",
   "execution_count": 4,
   "id": "c465f6b7",
   "metadata": {
    "execution": {
     "iopub.execute_input": "2023-12-15T15:29:53.085529Z",
     "iopub.status.busy": "2023-12-15T15:29:53.085261Z",
     "iopub.status.idle": "2023-12-15T15:29:59.150924Z",
     "shell.execute_reply": "2023-12-15T15:29:59.150105Z"
    },
    "papermill": {
     "duration": 6.072302,
     "end_time": "2023-12-15T15:29:59.153342",
     "exception": false,
     "start_time": "2023-12-15T15:29:53.081040",
     "status": "completed"
    },
    "tags": []
   },
   "outputs": [
    {
     "name": "stdout",
     "output_type": "stream",
     "text": [
      "Reading test data...\n",
      "shape of data: (10000, 1797)\n"
     ]
    }
   ],
   "source": [
    "import warnings\n",
    "print(f'Reading test data...')\n",
    "TEST_PATH = '/kaggle/input/behav-company-img/dataframe/Behav_Company_img.csv'\n",
    "IMG_EMB = '/kaggle/input/clip-embed-company-test/CLIP_Embeds_Test_Company.npy'\n",
    "TEXT_EMB = '/kaggle/input/mpnet-company-dataset/MPNET_Embeds_Company.npy'\n",
    "with warnings.catch_warnings():\n",
    "    # Filter out the specific warning you want to ignore\n",
    "    warnings.filterwarnings(\"ignore\", category=Warning)\n",
    "    test = read_file(TEXT_EMB, IMG_EMB, path = TEST_PATH)\n",
    "customers = test[['id']].drop_duplicates().sort_index().values.flatten()"
   ]
  },
  {
   "cell_type": "code",
   "execution_count": 5,
   "id": "9dccd8ac",
   "metadata": {
    "execution": {
     "iopub.execute_input": "2023-12-15T15:29:59.162727Z",
     "iopub.status.busy": "2023-12-15T15:29:59.161976Z",
     "iopub.status.idle": "2023-12-15T15:29:59.167698Z",
     "shell.execute_reply": "2023-12-15T15:29:59.166673Z"
    },
    "papermill": {
     "duration": 0.012582,
     "end_time": "2023-12-15T15:29:59.169982",
     "exception": false,
     "start_time": "2023-12-15T15:29:59.157400",
     "status": "completed"
    },
    "tags": []
   },
   "outputs": [
    {
     "name": "stdout",
     "output_type": "stream",
     "text": [
      "There are 1797 features!\n"
     ]
    }
   ],
   "source": [
    "# FEATURES\n",
    "FEATURES = test.columns[:]\n",
    "print(f'There are {len(FEATURES)} features!')"
   ]
  },
  {
   "cell_type": "code",
   "execution_count": 6,
   "id": "a3a89aa9",
   "metadata": {
    "execution": {
     "iopub.execute_input": "2023-12-15T15:29:59.179492Z",
     "iopub.status.busy": "2023-12-15T15:29:59.178884Z",
     "iopub.status.idle": "2023-12-15T15:29:59.183088Z",
     "shell.execute_reply": "2023-12-15T15:29:59.182204Z"
    },
    "papermill": {
     "duration": 0.011393,
     "end_time": "2023-12-15T15:29:59.185148",
     "exception": false,
     "start_time": "2023-12-15T15:29:59.173755",
     "status": "completed"
    },
    "tags": []
   },
   "outputs": [],
   "source": [
    "VER = 2\n",
    "FOLDS = 5"
   ]
  },
  {
   "cell_type": "code",
   "execution_count": 7,
   "id": "f1032072",
   "metadata": {
    "execution": {
     "iopub.execute_input": "2023-12-15T15:29:59.193870Z",
     "iopub.status.busy": "2023-12-15T15:29:59.193609Z",
     "iopub.status.idle": "2023-12-15T15:30:02.648081Z",
     "shell.execute_reply": "2023-12-15T15:30:02.645802Z"
    },
    "papermill": {
     "duration": 3.462302,
     "end_time": "2023-12-15T15:30:02.651348",
     "exception": false,
     "start_time": "2023-12-15T15:29:59.189046",
     "status": "completed"
    },
    "tags": []
   },
   "outputs": [],
   "source": [
    "test_preds = []\n",
    "# TEST DATA FOR XGB\n",
    "X_test = test[FEATURES]\n",
    "dtest = xgb.DMatrix(data=X_test)\n",
    "del X_test\n",
    "gc.collect()\n",
    "# INFER XGB MODELS ON TEST DATA\n",
    "model = xgb.Booster()\n",
    "model.load_model(f'/kaggle/input/xgboost-saved-models/XGB_v{VER}_fold0.xgb')\n",
    "preds = np.exp(model.predict(dtest))\n",
    "for f in range(1,FOLDS):\n",
    "    model.load_model(f'/kaggle/input/xgboost-saved-models/XGB_v{VER}_fold{f}.xgb')\n",
    "    preds += np.exp(model.predict(dtest))\n",
    "preds /= FOLDS\n",
    "test_preds.append(preds)\n",
    "# CLEAN MEMORY\n",
    "del dtest, model\n",
    "_ = gc.collect()"
   ]
  },
  {
   "cell_type": "code",
   "execution_count": 8,
   "id": "23b2e7ca",
   "metadata": {
    "execution": {
     "iopub.execute_input": "2023-12-15T15:30:02.663968Z",
     "iopub.status.busy": "2023-12-15T15:30:02.663191Z",
     "iopub.status.idle": "2023-12-15T15:30:02.739706Z",
     "shell.execute_reply": "2023-12-15T15:30:02.738592Z"
    },
    "papermill": {
     "duration": 0.084714,
     "end_time": "2023-12-15T15:30:02.741883",
     "exception": false,
     "start_time": "2023-12-15T15:30:02.657169",
     "status": "completed"
    },
    "tags": []
   },
   "outputs": [
    {
     "name": "stdout",
     "output_type": "stream",
     "text": [
      "Submission file shape is (10000, 1)\n"
     ]
    },
    {
     "data": {
      "text/html": [
       "<div>\n",
       "<style scoped>\n",
       "    .dataframe tbody tr th:only-of-type {\n",
       "        vertical-align: middle;\n",
       "    }\n",
       "\n",
       "    .dataframe tbody tr th {\n",
       "        vertical-align: top;\n",
       "    }\n",
       "\n",
       "    .dataframe thead th {\n",
       "        text-align: right;\n",
       "    }\n",
       "</style>\n",
       "<table border=\"1\" class=\"dataframe\">\n",
       "  <thead>\n",
       "    <tr style=\"text-align: right;\">\n",
       "      <th></th>\n",
       "      <th>prediction</th>\n",
       "    </tr>\n",
       "  </thead>\n",
       "  <tbody>\n",
       "    <tr>\n",
       "      <th>1</th>\n",
       "      <td>2.182070</td>\n",
       "    </tr>\n",
       "    <tr>\n",
       "      <th>2</th>\n",
       "      <td>4.021781</td>\n",
       "    </tr>\n",
       "    <tr>\n",
       "      <th>3</th>\n",
       "      <td>23.068300</td>\n",
       "    </tr>\n",
       "    <tr>\n",
       "      <th>4</th>\n",
       "      <td>54.728199</td>\n",
       "    </tr>\n",
       "    <tr>\n",
       "      <th>5</th>\n",
       "      <td>148.012894</td>\n",
       "    </tr>\n",
       "    <tr>\n",
       "      <th>...</th>\n",
       "      <td>...</td>\n",
       "    </tr>\n",
       "    <tr>\n",
       "      <th>9996</th>\n",
       "      <td>54282.554688</td>\n",
       "    </tr>\n",
       "    <tr>\n",
       "      <th>9997</th>\n",
       "      <td>42208.175781</td>\n",
       "    </tr>\n",
       "    <tr>\n",
       "      <th>9998</th>\n",
       "      <td>61996.917969</td>\n",
       "    </tr>\n",
       "    <tr>\n",
       "      <th>9999</th>\n",
       "      <td>71699.359375</td>\n",
       "    </tr>\n",
       "    <tr>\n",
       "      <th>10000</th>\n",
       "      <td>60924.148438</td>\n",
       "    </tr>\n",
       "  </tbody>\n",
       "</table>\n",
       "<p>10000 rows × 1 columns</p>\n",
       "</div>"
      ],
      "text/plain": [
       "         prediction\n",
       "1          2.182070\n",
       "2          4.021781\n",
       "3         23.068300\n",
       "4         54.728199\n",
       "5        148.012894\n",
       "...             ...\n",
       "9996   54282.554688\n",
       "9997   42208.175781\n",
       "9998   61996.917969\n",
       "9999   71699.359375\n",
       "10000  60924.148438\n",
       "\n",
       "[10000 rows x 1 columns]"
      ]
     },
     "execution_count": 8,
     "metadata": {},
     "output_type": "execute_result"
    }
   ],
   "source": [
    "# WRITE SUBMISSION FILE\n",
    "test_preds = np.concatenate(test_preds)\n",
    "test = cudf.DataFrame(index=customers,data={'prediction':test_preds})\n",
    "\n",
    "# DISPLAY PREDICTIONS\n",
    "test.to_csv(f'task01_submission_xgb_v{VER}_Company_CLIP.csv',index=False)\n",
    "print('Submission file shape is', test.shape )\n",
    "test.head(10000)"
   ]
  },
  {
   "cell_type": "code",
   "execution_count": null,
   "id": "55eaf91a",
   "metadata": {
    "papermill": {
     "duration": 0.003995,
     "end_time": "2023-12-15T15:30:02.750148",
     "exception": false,
     "start_time": "2023-12-15T15:30:02.746153",
     "status": "completed"
    },
    "tags": []
   },
   "outputs": [],
   "source": []
  }
 ],
 "metadata": {
  "kaggle": {
   "accelerator": "nvidiaTeslaT4",
   "dataSources": [
    {
     "datasetId": 4171111,
     "sourceId": 7209159,
     "sourceType": "datasetVersion"
    },
    {
     "datasetId": 4170781,
     "sourceId": 7208725,
     "sourceType": "datasetVersion"
    },
    {
     "datasetId": 4170817,
     "sourceId": 7208767,
     "sourceType": "datasetVersion"
    },
    {
     "datasetId": 4170932,
     "sourceId": 7208923,
     "sourceType": "datasetVersion"
    },
    {
     "datasetId": 4165821,
     "sourceId": 7201666,
     "sourceType": "datasetVersion"
    }
   ],
   "dockerImageVersionId": 30627,
   "isGpuEnabled": true,
   "isInternetEnabled": true,
   "language": "python",
   "sourceType": "notebook"
  },
  "kernelspec": {
   "display_name": "Python 3",
   "language": "python",
   "name": "python3"
  },
  "language_info": {
   "codemirror_mode": {
    "name": "ipython",
    "version": 3
   },
   "file_extension": ".py",
   "mimetype": "text/x-python",
   "name": "python",
   "nbconvert_exporter": "python",
   "pygments_lexer": "ipython3",
   "version": "3.10.12"
  },
  "papermill": {
   "default_parameters": {},
   "duration": 23.79808,
   "end_time": "2023-12-15T15:30:05.342885",
   "environment_variables": {},
   "exception": null,
   "input_path": "__notebook__.ipynb",
   "output_path": "__notebook__.ipynb",
   "parameters": {},
   "start_time": "2023-12-15T15:29:41.544805",
   "version": "2.4.0"
  }
 },
 "nbformat": 4,
 "nbformat_minor": 5
}
