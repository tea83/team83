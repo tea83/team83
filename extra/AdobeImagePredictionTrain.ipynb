{
  "nbformat": 4,
  "nbformat_minor": 0,
  "metadata": {
    "colab": {
      "provenance": [],
      "authorship_tag": "ABX9TyOn8Tw6e4hqZFE9LPBF9MGC",
      "include_colab_link": true
    },
    "kernelspec": {
      "name": "python3",
      "display_name": "Python 3"
    },
    "language_info": {
      "name": "python"
    }
  },
  "cells": [
    {
      "cell_type": "markdown",
      "metadata": {
        "id": "view-in-github",
        "colab_type": "text"
      },
      "source": [
        "<a href=\"https://colab.research.google.com/github/OrionXV/InterIITAdobe/blob/main/extra/AdobeImagePredictionTrain.ipynb\" target=\"_parent\"><img src=\"https://colab.research.google.com/assets/colab-badge.svg\" alt=\"Open In Colab\"/></a>"
      ]
    },
    {
      "cell_type": "code",
      "execution_count": null,
      "metadata": {
        "id": "QNGc2C8VxCbR"
      },
      "outputs": [],
      "source": [
        "import numpy as np\n",
        "import pandas as pd\n",
        "from diffusers import AutoPipelineForText2Image, AutoPipelineForImage2Image\n",
        "import torch\n"
      ]
    },
    {
      "cell_type": "code",
      "source": [
        "from accelerate.utils import write_basic_config\n",
        "\n",
        "write_basic_config()"
      ],
      "metadata": {
        "id": "3WZ92Uu1ygAT"
      },
      "execution_count": null,
      "outputs": []
    },
    {
      "cell_type": "code",
      "source": [
        "export MODEL_NAME=\"stabilityai/sdxl-turbo\"\n",
        "export OUTPUT_DIR=\"imgGenOutputs\"\n",
        "export HUB_MODEL_ID=\"OrionXV/sdxl-turbo-for-adobe-gen\"\n",
        "export DATASET_NAME=\"PromptEngForImageGen\"\n",
        "\n",
        "accelerate launch --mixed_precision=\"fp16\"  train_text_to_image_lora.py \\\n",
        "  --pretrained_model_name_or_path=$MODEL_NAME \\\n",
        "  --dataset_name=$DATASET_NAME \\\n",
        "  --dataloader_num_workers=8 \\\n",
        "  --resolution=512\n",
        "  --center_crop \\\n",
        "  --random_flip \\\n",
        "  --train_batch_size=1 \\\n",
        "  --gradient_accumulation_steps=4 \\\n",
        "  --max_train_steps=15000 \\\n",
        "  --learning_rate=1e-04 \\\n",
        "  --max_grad_norm=1 \\\n",
        "  --lr_scheduler=\"cosine\" \\\n",
        "  --lr_warmup_steps=0 \\\n",
        "  --output_dir=${OUTPUT_DIR} \\\n",
        "  --push_to_hub \\\n",
        "  --hub_model_id=${HUB_MODEL_ID} \\\n",
        "  --report_to=wandb \\\n",
        "  --checkpointing_steps=500 \\\n",
        "  --validation_prompt=\"Make a picture to go along with the tweet -> Spend your weekend morning with a Ham, Egg ;; written by TimHortonsPH on 2020-12-12 00:47:00 with got 1 likes\" \\\n",
        "  --seed=42"
      ],
      "metadata": {
        "id": "JhlOg6isx7dp"
      },
      "execution_count": null,
      "outputs": []
    }
  ]
}